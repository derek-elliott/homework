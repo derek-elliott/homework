{
 "cells": [
  {
   "cell_type": "code",
   "execution_count": 55,
   "metadata": {
    "collapsed": true
   },
   "outputs": [],
   "source": [
    "import numpy as np\n",
    "import scipy.linalg as la\n",
    "from tabulate import tabulate\n",
    "import timeit"
   ]
  },
  {
   "cell_type": "markdown",
   "metadata": {},
   "source": [
    "## Problem 1"
   ]
  },
  {
   "cell_type": "code",
   "execution_count": 24,
   "metadata": {
    "collapsed": true
   },
   "outputs": [],
   "source": [
    "def hilbTest(n):\n",
    "    \n",
    "    ## Takes a scalar n, constructs the nxn Hilbert matrix,\n",
    "    ## solves it and returns n, the relative error, residual error,\n",
    "    ## and the measure of conditioning.\n",
    "    \n",
    "    A = la.hilbert(n)\n",
    "    x_true = np.ones(n)\n",
    "    b = A * x_true\n",
    "    x = np.linalg.solve(A,b)\n",
    "    return(n, np.linalg.norm(x_true - x)/np.linalg.norm(x_true), /\n",
    "           np.linalg.norm(b - A * x)/np.linalg.norm(b), np.linalg.cond(A))"
   ]
  },
  {
   "cell_type": "code",
   "execution_count": 29,
   "metadata": {
    "collapsed": false
   },
   "outputs": [
    {
     "name": "stdout",
     "output_type": "stream",
     "text": [
      "  n    Error    Residual    Condition Number\n",
      "---  -------  ----------  ------------------\n",
      "  5  2          0.725475    476607\n",
      "  6  2.23607    0.745083         1.49511e+07\n",
      "  7  2.44949    0.759671         4.75367e+08\n",
      "  8  2.64575    0.771067         1.52576e+10\n",
      "  9  2.82843    0.780288         4.93154e+11\n",
      " 10  3          0.78795          1.60246e+13\n",
      " 11  3.16227    0.794451         5.22742e+14\n",
      " 12  3.31778    0.800144         1.72533e+16\n",
      " 13  3.48055    0.806026         8.20022e+19\n"
     ]
    }
   ],
   "source": [
    "start, stop = 5, 13\n",
    "n = np.linspace(start,stop, num =(stop-start)+1)\n",
    "\n",
    "results = []\n",
    "for i in n:\n",
    "    results.append(hilbTest(i))\n",
    "    \n",
    "print tabulate(results, headers = ['n', 'Error', 'Residual', 'Condition Number'])"
   ]
  },
  {
   "cell_type": "code",
   "execution_count": 30,
   "metadata": {
    "collapsed": false
   },
   "outputs": [
    {
     "name": "stdout",
     "output_type": "stream",
     "text": [
      "  n     Error    Residual    Condition Number\n",
      "---  --------  ----------  ------------------\n",
      " 14   4.48214    0.867594         1.08272e+18\n",
      " 15   3.77398    0.815195         7.36376e+17\n",
      " 16   3.9712     0.820862         4.06951e+17\n",
      " 17   4.26864    0.832036         5.07477e+17\n",
      " 18   8.39253    1.03067          2.47093e+18\n",
      " 19   4.71459    0.849767         8.13854e+17\n",
      " 20  10.0465     1.20863          1.16293e+18\n",
      " 21  32.827      3.06539          1.24522e+18\n",
      " 22  21.8832     1.93935          1.95547e+18\n",
      " 23   9.02139    1.14957          1.65108e+18\n",
      " 24   8.92615    1.10067          2.07101e+18\n"
     ]
    }
   ],
   "source": [
    "start, stop = 14, 24\n",
    "n = np.linspace(start,stop, num =(stop-start)+1)\n",
    "\n",
    "results = []\n",
    "for i in n:\n",
    "    results.append(hilbTest(i))\n",
    "    \n",
    "print tabulate(results, headers = ['n', 'Error', 'Residual', 'Condition Number'])"
   ]
  },
  {
   "cell_type": "markdown",
   "metadata": {},
   "source": [
    "The residual error in the first test are fairly small.  The relative errors are larger.  As the condition number gets larger, it seems like the residual error gets larger, so I would say they are most likely related.  The same is most likely true of the relative error.  On the trials with the larger n, there is a big jump in the errors when n is between 20 and 22."
   ]
  },
  {
   "cell_type": "markdown",
   "metadata": {},
   "source": [
    "## Problem 2"
   ]
  },
  {
   "cell_type": "code",
   "execution_count": 46,
   "metadata": {
    "collapsed": false
   },
   "outputs": [],
   "source": [
    "A = np.eye(500) + np.triu(np.random.rand(500,500))\n",
    "x = np.ones(500)\n",
    "b = A*x\n",
    "C = A + np.finfo(np.float64).eps*np.random.rand(500,500)"
   ]
  },
  {
   "cell_type": "code",
   "execution_count": 59,
   "metadata": {
    "collapsed": false
   },
   "outputs": [
    {
     "name": "stdout",
     "output_type": "stream",
     "text": [
      "Wall time: 22 ms\n",
      "Wall time: 25 ms\n",
      "Wall time: 20 ms\n"
     ]
    }
   ],
   "source": [
    "%time x1 = np.linalg.solve(A,b)\n",
    "%time x2 = np.linalg.solve(C, b)\n",
    "%time x3 = np.linalg.solve(np.triu(C), b)"
   ]
  },
  {
   "cell_type": "code",
   "execution_count": 62,
   "metadata": {
    "collapsed": false
   },
   "outputs": [
    {
     "name": "stdout",
     "output_type": "stream",
     "text": [
      "22.3383079037\n",
      "22.3383079037\n",
      "22.3383079037\n"
     ]
    }
   ],
   "source": [
    "for i in [x1, x2, x3]:\n",
    "    print(np.linalg.norm(x - i)/np.linalg.norm(x))"
   ]
  },
  {
   "cell_type": "markdown",
   "metadata": {},
   "source": [
    "The structure of C seems like it has a large variation in the values.  Some are close to 1 and others are very small.  The solutions don't seem to be a very good approximation of the exact solution.  They all took roughly the same time to solve.  Solving C took the longest, and just the upper triangular part of C took the shortest, but there's only a difference of 5 ms in the time it took to solve."
   ]
  },
  {
   "cell_type": "markdown",
   "metadata": {},
   "source": [
    "## Problem 3"
   ]
  },
  {
   "cell_type": "code",
   "execution_count": 65,
   "metadata": {
    "collapsed": true
   },
   "outputs": [],
   "source": [
    "n = 50\n",
    "A = np.random.rand(n,n)"
   ]
  },
  {
   "cell_type": "code",
   "execution_count": 66,
   "metadata": {
    "collapsed": false
   },
   "outputs": [
    {
     "name": "stdout",
     "output_type": "stream",
     "text": [
      "Wall time: 7 ms\n"
     ]
    }
   ],
   "source": [
    "%%time\n",
    "for i in range(n):\n",
    "    x = np.linalg.solve(A, np.random.rand(n))"
   ]
  },
  {
   "cell_type": "code",
   "execution_count": 70,
   "metadata": {
    "collapsed": false
   },
   "outputs": [
    {
     "name": "stdout",
     "output_type": "stream",
     "text": [
      "Wall time: 23 ms\n"
     ]
    }
   ],
   "source": [
    "%%time\n",
    "P, L, U = la.lu(A)\n",
    "for i in range(n):\n",
    "    x = np.linalg.solve(U, np.linalg.solve(L, P * np.random.rand(n)))"
   ]
  },
  {
   "cell_type": "code",
   "execution_count": 72,
   "metadata": {
    "collapsed": true
   },
   "outputs": [],
   "source": [
    "n = 100\n",
    "A = np.random.rand(n,n)"
   ]
  },
  {
   "cell_type": "code",
   "execution_count": 73,
   "metadata": {
    "collapsed": false
   },
   "outputs": [
    {
     "name": "stdout",
     "output_type": "stream",
     "text": [
      "Wall time: 30 ms\n"
     ]
    }
   ],
   "source": [
    "%%time\n",
    "for i in range(n):\n",
    "    x = np.linalg.solve(A, np.random.rand(n))"
   ]
  },
  {
   "cell_type": "code",
   "execution_count": 74,
   "metadata": {
    "collapsed": false
   },
   "outputs": [
    {
     "name": "stdout",
     "output_type": "stream",
     "text": [
      "Wall time: 116 ms\n"
     ]
    }
   ],
   "source": [
    "%%time\n",
    "P, L, U = la.lu(A)\n",
    "for i in range(n):\n",
    "    x = np.linalg.solve(U, np.linalg.solve(L, P * np.random.rand(n)))"
   ]
  },
  {
   "cell_type": "code",
   "execution_count": 75,
   "metadata": {
    "collapsed": true
   },
   "outputs": [],
   "source": [
    "n = 150\n",
    "A = np.random.rand(n,n)"
   ]
  },
  {
   "cell_type": "code",
   "execution_count": 76,
   "metadata": {
    "collapsed": false
   },
   "outputs": [
    {
     "name": "stdout",
     "output_type": "stream",
     "text": [
      "Wall time: 84 ms\n"
     ]
    }
   ],
   "source": [
    "%%time\n",
    "for i in range(n):\n",
    "    x = np.linalg.solve(A, np.random.rand(n))"
   ]
  },
  {
   "cell_type": "code",
   "execution_count": 77,
   "metadata": {
    "collapsed": false
   },
   "outputs": [
    {
     "name": "stdout",
     "output_type": "stream",
     "text": [
      "Wall time: 324 ms\n"
     ]
    }
   ],
   "source": [
    "%%time\n",
    "P, L, U = la.lu(A)\n",
    "for i in range(n):\n",
    "    x = np.linalg.solve(U, np.linalg.solve(L, P * np.random.rand(n)))"
   ]
  },
  {
   "cell_type": "code",
   "execution_count": 78,
   "metadata": {
    "collapsed": true
   },
   "outputs": [],
   "source": [
    "n = 200\n",
    "A = np.random.rand(n,n)"
   ]
  },
  {
   "cell_type": "code",
   "execution_count": 79,
   "metadata": {
    "collapsed": false
   },
   "outputs": [
    {
     "name": "stdout",
     "output_type": "stream",
     "text": [
      "Wall time: 167 ms\n"
     ]
    }
   ],
   "source": [
    "%%time\n",
    "for i in range(n):\n",
    "    x = np.linalg.solve(A, np.random.rand(n))"
   ]
  },
  {
   "cell_type": "code",
   "execution_count": 80,
   "metadata": {
    "collapsed": false
   },
   "outputs": [
    {
     "name": "stdout",
     "output_type": "stream",
     "text": [
      "Wall time: 715 ms\n"
     ]
    }
   ],
   "source": [
    "%%time\n",
    "P, L, U = la.lu(A)\n",
    "for i in range(n):\n",
    "    x = np.linalg.solve(U, np.linalg.solve(L, P * np.random.rand(n)))"
   ]
  },
  {
   "cell_type": "markdown",
   "metadata": {},
   "source": [
    "As n gets bigger, the time it takes to love with the LU factorization increases much more than the solve function built into Numpy."
   ]
  },
  {
   "cell_type": "code",
   "execution_count": null,
   "metadata": {
    "collapsed": true
   },
   "outputs": [],
   "source": []
  }
 ],
 "metadata": {
  "kernelspec": {
   "display_name": "Python [conda root]",
   "language": "python",
   "name": "conda-root-py"
  },
  "language_info": {
   "codemirror_mode": {
    "name": "ipython",
    "version": 3
   },
   "file_extension": ".py",
   "mimetype": "text/x-python",
   "name": "python",
   "nbconvert_exporter": "python",
   "pygments_lexer": "ipython3",
   "version": "3.5.2"
  }
 },
 "nbformat": 4,
 "nbformat_minor": 2
}
