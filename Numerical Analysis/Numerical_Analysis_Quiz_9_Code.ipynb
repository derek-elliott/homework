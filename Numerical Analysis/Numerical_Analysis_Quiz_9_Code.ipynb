{
 "cells": [
  {
   "cell_type": "code",
   "execution_count": 1,
   "metadata": {
    "collapsed": true
   },
   "outputs": [],
   "source": [
    "import numpy as np\n",
    "import numpy.linalg\n",
    "from tabulate import tabulate"
   ]
  },
  {
   "cell_type": "code",
   "execution_count": 2,
   "metadata": {
    "collapsed": true
   },
   "outputs": [],
   "source": [
    "def mgs(A):\n",
    "    m = A.shape[0]\n",
    "    n = A.shape[1]\n",
    "    Q = np.zeros((m,n))\n",
    "    R = np.zeros((n,n))\n",
    "    \n",
    "    for i in range(n):\n",
    "        v = A[:,i]\n",
    "        \n",
    "        for j in range(i):\n",
    "            R[j,i] = Q[:,j].T.dot(A[:,i])\n",
    "            v = v.squeeze() - (R[j,i]*Q[:,j])\n",
    "        R[i,i] = np.linalg.norm(v)\n",
    "        Q[:,i] = (v / R[i,i]).squeeze()\n",
    "    return Q, R"
   ]
  },
  {
   "cell_type": "code",
   "execution_count": 3,
   "metadata": {
    "collapsed": true
   },
   "outputs": [],
   "source": [
    "def house(A):\n",
    "    m = A.shape[0]\n",
    "    n = A.shape[1]\n",
    "    R = A.copy()\n",
    "    U = np.zeros((m,n))\n",
    "    for i in range(n):\n",
    "        x = R[i:m, i]\n",
    "        e = np.zeros((1,len(x)))\n",
    "        e[0][0] = 1\n",
    "        u = np.sign(x[0]) * np.linalg.norm(x) * e + x\n",
    "        u = u/np.linalg.norm(u)\n",
    "        \n",
    "        R[i:m, i:n] = R[i:m, i:n] - 2.0 * np.outer(u.T, np.dot(u, R[i:m, i:n]))\n",
    "        U[i:m, i] = u.squeeze()\n",
    "    R = np.delete(R, range(R.shape[1], R.shape[0]), axis = 0)\n",
    "    return U, R"
   ]
  },
  {
   "cell_type": "code",
   "execution_count": 4,
   "metadata": {
    "collapsed": false
   },
   "outputs": [],
   "source": [
    "m, n = 50, 12\n",
    "\n",
    "t = np.linspace(0,1,num = m)\n",
    "A = np.fliplr(np.vander(t, n))\n",
    "\n",
    "b = np.cos(4*t)"
   ]
  },
  {
   "cell_type": "code",
   "execution_count": 5,
   "metadata": {
    "collapsed": false
   },
   "outputs": [],
   "source": [
    "x1 = np.linalg.solve(A.T.dot(A), A.T.dot(b))"
   ]
  },
  {
   "cell_type": "code",
   "execution_count": 6,
   "metadata": {
    "collapsed": false,
    "scrolled": true
   },
   "outputs": [],
   "source": [
    "Q, R = mgs(A)\n",
    "x2 = np.linalg.solve(R, Q.T.dot(b))"
   ]
  },
  {
   "cell_type": "code",
   "execution_count": 7,
   "metadata": {
    "collapsed": false
   },
   "outputs": [],
   "source": [
    "U, R = house(A)\n",
    "Q = A.dot(np.linalg.inv(R))\n",
    "x3 = np.linalg.solve(R, Q.T.dot(b))"
   ]
  },
  {
   "cell_type": "code",
   "execution_count": 8,
   "metadata": {
    "collapsed": false
   },
   "outputs": [],
   "source": [
    "Q, R = np.linalg.qr(A)\n",
    "x4 = np.linalg.solve(R, Q.T.dot(b))"
   ]
  },
  {
   "cell_type": "code",
   "execution_count": 9,
   "metadata": {
    "collapsed": true
   },
   "outputs": [],
   "source": [
    "x5 = np.linalg.lstsq(A, b)[0]"
   ]
  },
  {
   "cell_type": "code",
   "execution_count": 10,
   "metadata": {
    "collapsed": false,
    "scrolled": true
   },
   "outputs": [],
   "source": [
    "U, s, V = np.linalg.svd(A)\n",
    "S = np.zeros((m,n))\n",
    "S[:s.shape[0], :s.shape[0]] = np.diag(s)\n",
    "\n",
    "x6 = V.T.dot(np.linalg.lstsq(S, U.T.dot(b))[0])"
   ]
  },
  {
   "cell_type": "code",
   "execution_count": 11,
   "metadata": {
    "collapsed": false
   },
   "outputs": [
    {
     "name": "stdout",
     "output_type": "stream",
     "text": [
      "                 MGS                House               Normal\n",
      "--------------------  -------------------  -------------------\n",
      "  1.0000053533240936   1.0000000045326869   0.9999999821271303\n",
      " -0.0005758979056823  -0.0000014868986768   0.0000052756829734\n",
      " -7.9911572340157626  -7.9999409774704668  -8.0001973137839695\n",
      " -0.0194657675857019  -0.0009147724766076   0.0028870948110900\n",
      " 10.3156828084165255  10.6740092065298011  10.6447553570670070\n",
      "  2.7762759000009178  -0.0345351175477042   0.0980231857515497\n",
      "-14.8146797608050509  -5.5882255741704423  -5.9653329205408774\n",
      " 16.2256716152385039  -0.1832647656926375   0.5093129370633428\n",
      "-14.6174823581323388   1.8213219629196709   1.0010238386447288\n",
      "  8.5868958215562152  -0.0880833148096715   0.5170088167573208\n",
      " -2.1511844577205048  -0.3349538904796512  -0.5877712985575644\n",
      "  0.0363558870945668   0.0809451034728088   0.1266414394081457\n",
      "                SVD                   QR              x = A/b\n",
      "-------------------  -------------------  -------------------\n",
      " 1.0000000009966072   1.0000000009966077   1.0000000009966077\n",
      "-0.0000004227428273  -0.0000004227428501  -0.0000004227428774\n",
      "-7.9999812356911342  -7.9999812356907647  -7.9999812356897984\n",
      "-0.0003187631701658  -0.0003187631726312  -0.0003187631867325\n",
      "10.6694307955043861  10.6694307955096086  10.6694307956154759\n",
      "-0.0138202864330369  -0.0138202864094823  -0.0138202868805049\n",
      "-5.6470756313350785  -5.6470756315142019  -5.6470756301891010\n",
      "-0.0753160176119848  -0.0753160171037920  -0.0753160195243648\n",
      " 1.6936069561154614   1.6936069553245572   1.6936069581892859\n",
      " 0.0060321138329761   0.0060321145421999   0.0060321124229857\n",
      "-0.3742417054362167  -0.3742417057803670  -0.3742417048898581\n",
      " 0.0880405764092489   0.0880405764793515   0.0880405763171200\n"
     ]
    }
   ],
   "source": [
    "table1 = {'Normal':x1, 'MGS':x2, 'House':x3}\n",
    "table2 = {'QR':x4, 'x = A/b':x5, 'SVD':x6}\n",
    "print tabulate(table1, headers = 'keys', floatfmt = '.16f')\n",
    "print tabulate(table2, headers = 'keys', floatfmt = '.16f')"
   ]
  },
  {
   "cell_type": "code",
   "execution_count": null,
   "metadata": {
    "collapsed": true
   },
   "outputs": [],
   "source": []
  }
 ],
 "metadata": {
  "kernelspec": {
   "display_name": "Python [conda root]",
   "language": "python",
   "name": "conda-root-py"
  },
  "language_info": {
   "codemirror_mode": {
    "name": "ipython",
    "version": 3
   },
   "file_extension": ".py",
   "mimetype": "text/x-python",
   "name": "python",
   "nbconvert_exporter": "python",
   "pygments_lexer": "ipython3",
   "version": "3.5.2"
  }
 },
 "nbformat": 4,
 "nbformat_minor": 2
}
