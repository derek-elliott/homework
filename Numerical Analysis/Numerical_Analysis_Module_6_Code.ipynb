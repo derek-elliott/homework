{
 "cells": [
  {
   "cell_type": "markdown",
   "metadata": {},
   "source": [
    "## Problem 4"
   ]
  },
  {
   "cell_type": "code",
   "execution_count": 1,
   "metadata": {
    "collapsed": true
   },
   "outputs": [],
   "source": [
    "import numpy as np\n",
    "from scipy import sparse\n",
    "from scipy.sparse import linalg\n",
    "from tabulate import tabulate"
   ]
  },
  {
   "cell_type": "markdown",
   "metadata": {},
   "source": [
    "a)"
   ]
  },
  {
   "cell_type": "code",
   "execution_count": 2,
   "metadata": {
    "collapsed": true
   },
   "outputs": [],
   "source": [
    "def poissonmat(n):\n",
    "    #Returns an nxn sparse tridiagonal matrix with 2 on the diagonal and -1 on both off-diagonals.\n",
    "    return(sparse.diags([-1, 2, -1], [-1, 0, 1], shape=(n, n)))"
   ]
  },
  {
   "cell_type": "markdown",
   "metadata": {},
   "source": [
    "b)"
   ]
  },
  {
   "cell_type": "code",
   "execution_count": 3,
   "metadata": {
    "collapsed": true
   },
   "outputs": [],
   "source": [
    "def poissonsolve(f):\n",
    "    return(linalg.spsolve(poissonmat(len(f)), (np.power(1./(len(f)+1),2)*f)))"
   ]
  },
  {
   "cell_type": "markdown",
   "metadata": {},
   "source": [
    "c)"
   ]
  },
  {
   "cell_type": "code",
   "execution_count": 6,
   "metadata": {
    "collapsed": false
   },
   "outputs": [
    {
     "name": "stdout",
     "output_type": "stream",
     "text": [
      "Wall time: 0 ns\n",
      "Wall time: 1 ms\n",
      "Wall time: 1e+03 µs\n",
      "Wall time: 1e+03 µs\n"
     ]
    }
   ],
   "source": [
    "table = []\n",
    "f = lambda t: np.sin(np.pi*t)\n",
    "f_r = lambda t: 1/(np.power(np.pi,2))*np.sin(np.pi*t)\n",
    "for i in [10,100,500,1000]:\n",
    "    t = np.linspace(0,1,i)\n",
    "    time = %time ans = poissonsolve(f(t))\n",
    "    table.append([i, '1/{}'.format(len(t)+1), np.linalg.norm(ans - f_r(t)), np.linalg.norm(ans-f_r(t))/np.linalg.norm(f_r(t)), time])"
   ]
  },
  {
   "cell_type": "code",
   "execution_count": 11,
   "metadata": {
    "collapsed": false
   },
   "outputs": [
    {
     "name": "stdout",
     "output_type": "stream",
     "text": [
      "   n  h         Absolute Error    Relative Error  CPU Time\n",
      "----  ------  ----------------  ----------------  -----------\n",
      "  10  1/11          0.0401828         0.186954    0 ns\n",
      " 100  1/101         0.0137353         0.0192679   1 ms\n",
      " 500  1/501         0.00618504        0.00386462  1e+3 micros\n",
      "1000  1/1001        0.00437725        0.00193301  1e+3 micros\n"
     ]
    }
   ],
   "source": [
    "table[0][4] = '0 ns'\n",
    "table[1][4] = '1 ms'\n",
    "table[2][4] = '1e+3 micros'\n",
    "table[3][4] = '1e+3 micros'\n",
    "print(tabulate(table, headers = ['n', 'h', 'Absolute Error', 'Relative Error', 'CPU Time']))"
   ]
  },
  {
   "cell_type": "code",
   "execution_count": null,
   "metadata": {
    "collapsed": true
   },
   "outputs": [],
   "source": []
  }
 ],
 "metadata": {
  "kernelspec": {
   "display_name": "Python [conda root]",
   "language": "python",
   "name": "conda-root-py"
  },
  "language_info": {
   "codemirror_mode": {
    "name": "ipython",
    "version": 3
   },
   "file_extension": ".py",
   "mimetype": "text/x-python",
   "name": "python",
   "nbconvert_exporter": "python",
   "pygments_lexer": "ipython3",
   "version": "3.5.2"
  }
 },
 "nbformat": 4,
 "nbformat_minor": 2
}
