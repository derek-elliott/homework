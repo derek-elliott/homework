{
 "cells": [
  {
   "cell_type": "code",
   "execution_count": 72,
   "metadata": {
    "collapsed": false
   },
   "outputs": [],
   "source": [
    "import numpy as np\n",
    "import matplotlib as plt\n",
    "import time\n",
    "import pandas as pd"
   ]
  },
  {
   "cell_type": "code",
   "execution_count": 186,
   "metadata": {
    "collapsed": true
   },
   "outputs": [],
   "source": [
    "def timer(fun,*arg):\n",
    "    start = time.clock()\n",
    "    fun(*arg)\n",
    "    return(time.clock()-start)"
   ]
  },
  {
   "cell_type": "markdown",
   "metadata": {},
   "source": [
    "### Problem 1 a)"
   ]
  },
  {
   "cell_type": "code",
   "execution_count": 59,
   "metadata": {
    "collapsed": false
   },
   "outputs": [],
   "source": [
    "def DiagSolve1(A,b):\n",
    "    x = np.zeros((len(b),1))\n",
    "    for i in range(len(b)):\n",
    "        if A[i,i] == 0:\n",
    "            print('Imput matrix is singular')\n",
    "            return\n",
    "        x[i] = b[i]/A[i,i]\n",
    "    return(x)"
   ]
  },
  {
   "cell_type": "code",
   "execution_count": 60,
   "metadata": {
    "collapsed": false
   },
   "outputs": [],
   "source": [
    "def DiagSolve2(A,b):\n",
    "    d = np.diag(A)\n",
    "    if 0 in d:\n",
    "        print('Input matrix is singular')\n",
    "        return\n",
    "    x = b / d\n",
    "    return(x)"
   ]
  },
  {
   "cell_type": "code",
   "execution_count": 61,
   "metadata": {
    "collapsed": false
   },
   "outputs": [],
   "source": [
    "def DiagSolve3(d, b):\n",
    "    if 0 in d:\n",
    "        print('Input matrix is singular')\n",
    "        return\n",
    "    x = b / d\n",
    "    return(x)"
   ]
  },
  {
   "cell_type": "code",
   "execution_count": 190,
   "metadata": {
    "collapsed": false
   },
   "outputs": [
    {
     "data": {
      "text/html": [
       "<div style=\"max-height:1000px;max-width:1500px;overflow:auto;\">\n",
       "<table border=\"1\" class=\"dataframe\">\n",
       "  <thead>\n",
       "    <tr style=\"text-align: right;\">\n",
       "      <th></th>\n",
       "      <th>DiagSolve1</th>\n",
       "      <th>DiagSolve2</th>\n",
       "      <th>DiagSolve3</th>\n",
       "    </tr>\n",
       "  </thead>\n",
       "  <tbody>\n",
       "    <tr>\n",
       "      <th>200 </th>\n",
       "      <td> 0.000436</td>\n",
       "      <td> 0.000058</td>\n",
       "      <td> 0.000019</td>\n",
       "    </tr>\n",
       "    <tr>\n",
       "      <th>400 </th>\n",
       "      <td> 0.000525</td>\n",
       "      <td> 0.000077</td>\n",
       "      <td> 0.000009</td>\n",
       "    </tr>\n",
       "    <tr>\n",
       "      <th>600 </th>\n",
       "      <td> 0.000839</td>\n",
       "      <td> 0.000031</td>\n",
       "      <td> 0.000014</td>\n",
       "    </tr>\n",
       "    <tr>\n",
       "      <th>800 </th>\n",
       "      <td> 0.001032</td>\n",
       "      <td> 0.000027</td>\n",
       "      <td> 0.000033</td>\n",
       "    </tr>\n",
       "    <tr>\n",
       "      <th>1000</th>\n",
       "      <td> 0.001491</td>\n",
       "      <td> 0.000046</td>\n",
       "      <td> 0.000024</td>\n",
       "    </tr>\n",
       "  </tbody>\n",
       "</table>\n",
       "</div>"
      ],
      "text/plain": [
       "      DiagSolve1  DiagSolve2  DiagSolve3\n",
       "200     0.000436    0.000058    0.000019\n",
       "400     0.000525    0.000077    0.000009\n",
       "600     0.000839    0.000031    0.000014\n",
       "800     0.001032    0.000027    0.000033\n",
       "1000    0.001491    0.000046    0.000024"
      ]
     },
     "execution_count": 190,
     "metadata": {},
     "output_type": "execute_result"
    }
   ],
   "source": [
    "n = np.arange(200,1001,200)\n",
    "t = np.zeros((len(n),3))\n",
    "for i in range(len(n)):\n",
    "    b = np.random.rand(n[i])\n",
    "    A = np.diag(b)\n",
    "    t[i,0] = timer(DiagSolve1, A, b)\n",
    "    t[i,1] = timer(DiagSolve2, A, b)\n",
    "    t[i,2] = timer(DiagSolve3, b, b)\n",
    "pd.DataFrame(t, index= n, columns = ['DiagSolve1', 'DiagSolve2', 'DiagSolve3'])"
   ]
  },
  {
   "cell_type": "markdown",
   "metadata": {},
   "source": [
    "This evaluates the three different DiagSolve functions with 200, 400, 600, 800, and 1000 random matricies, records how long each took to compute, and reports the numbers in the table above."
   ]
  },
  {
   "cell_type": "markdown",
   "metadata": {},
   "source": [
    "### Problem 1 b)"
   ]
  },
  {
   "cell_type": "code",
   "execution_count": 155,
   "metadata": {
    "collapsed": false
   },
   "outputs": [],
   "source": [
    "def LowerSolve1(A,b):\n",
    "    if 0 in np.diag(A):\n",
    "        print('Input matrix is singular')\n",
    "        return\n",
    "    n = len(b)\n",
    "    x = np.zeros(n)\n",
    "    x[0] = b[0]/A[0,0]\n",
    "    for i in range(1,n):\n",
    "        x[i] = (b[i] - np.dot(A[i, 0:i],x[0:i])) / A[i,i]\n",
    "    return(x)"
   ]
  },
  {
   "cell_type": "code",
   "execution_count": 160,
   "metadata": {
    "collapsed": false
   },
   "outputs": [],
   "source": [
    "def LowerSolve2(A,b):\n",
    "    if 0 in np.diag(A):\n",
    "        print('Input matrix is singular')\n",
    "        return\n",
    "    n = len(b)\n",
    "    x = np.zeros(n)\n",
    "    z = np.copy(b)\n",
    "    for i in range(n):\n",
    "        x[i] = z[i]/A[i,i]\n",
    "        if i == n-1:\n",
    "            return(x)\n",
    "        z[i+1:n] -= np.dot(A[i+1:n,i],x[i])"
   ]
  },
  {
   "cell_type": "code",
   "execution_count": 191,
   "metadata": {
    "collapsed": false
   },
   "outputs": [
    {
     "data": {
      "text/html": [
       "<div style=\"max-height:1000px;max-width:1500px;overflow:auto;\">\n",
       "<table border=\"1\" class=\"dataframe\">\n",
       "  <thead>\n",
       "    <tr style=\"text-align: right;\">\n",
       "      <th></th>\n",
       "      <th>LowerSolve1</th>\n",
       "      <th>LowerSolve2</th>\n",
       "    </tr>\n",
       "  </thead>\n",
       "  <tbody>\n",
       "    <tr>\n",
       "      <th>200 </th>\n",
       "      <td> 0.000624</td>\n",
       "      <td> 0.001482</td>\n",
       "    </tr>\n",
       "    <tr>\n",
       "      <th>400 </th>\n",
       "      <td> 0.001049</td>\n",
       "      <td> 0.003133</td>\n",
       "    </tr>\n",
       "    <tr>\n",
       "      <th>600 </th>\n",
       "      <td> 0.002156</td>\n",
       "      <td> 0.005073</td>\n",
       "    </tr>\n",
       "    <tr>\n",
       "      <th>800 </th>\n",
       "      <td> 0.002328</td>\n",
       "      <td> 0.006119</td>\n",
       "    </tr>\n",
       "    <tr>\n",
       "      <th>1000</th>\n",
       "      <td> 0.003147</td>\n",
       "      <td> 0.008314</td>\n",
       "    </tr>\n",
       "  </tbody>\n",
       "</table>\n",
       "</div>"
      ],
      "text/plain": [
       "      LowerSolve1  LowerSolve2\n",
       "200      0.000624     0.001482\n",
       "400      0.001049     0.003133\n",
       "600      0.002156     0.005073\n",
       "800      0.002328     0.006119\n",
       "1000     0.003147     0.008314"
      ]
     },
     "execution_count": 191,
     "metadata": {},
     "output_type": "execute_result"
    }
   ],
   "source": [
    "n = np.arange(200,1001,200)\n",
    "t = np.zeros((len(n), 2))\n",
    "for i in range(len(n)):\n",
    "    A = np.tril(np.random.rand(n[i]))\n",
    "    b = np.diag(A)\n",
    "    t[i,0] = timer(LowerSolve1, A, b)\n",
    "    t[i,1] = timer(LowerSolve2, A, b)\n",
    "pd.DataFrame(t, index= n, columns = ['LowerSolve1', 'LowerSolve2'])"
   ]
  },
  {
   "cell_type": "markdown",
   "metadata": {},
   "source": [
    "This evaluates the two different LowerSolve functions with 200, 400, 600, 800, and 1000 random matricies, records how long each took to compute, and reports the numbers in the table above."
   ]
  },
  {
   "cell_type": "markdown",
   "metadata": {},
   "source": [
    "### Problem 1 c)"
   ]
  },
  {
   "cell_type": "code",
   "execution_count": 176,
   "metadata": {
    "collapsed": false
   },
   "outputs": [],
   "source": [
    "def y(x):\n",
    "    if not isinstance(x, np.ndarray):\n",
    "        x = np.asarray(x)\n",
    "    return((np.exp(x) + np.sin(np.pi*x))/(np.power(x, 2) + 7*x + 4))"
   ]
  },
  {
   "cell_type": "markdown",
   "metadata": {},
   "source": [
    "### Problem 1 d)"
   ]
  },
  {
   "cell_type": "code",
   "execution_count": 183,
   "metadata": {
    "collapsed": false
   },
   "outputs": [
    {
     "data": {
      "text/html": [
       "<div style=\"max-height:1000px;max-width:1500px;overflow:auto;\">\n",
       "<table border=\"1\" class=\"dataframe\">\n",
       "  <thead>\n",
       "    <tr style=\"text-align: right;\">\n",
       "      <th></th>\n",
       "      <th>Time</th>\n",
       "    </tr>\n",
       "  </thead>\n",
       "  <tbody>\n",
       "    <tr>\n",
       "      <th>100</th>\n",
       "      <td> 0.000068</td>\n",
       "    </tr>\n",
       "    <tr>\n",
       "      <th>200</th>\n",
       "      <td> 0.000065</td>\n",
       "    </tr>\n",
       "    <tr>\n",
       "      <th>300</th>\n",
       "      <td> 0.000081</td>\n",
       "    </tr>\n",
       "    <tr>\n",
       "      <th>400</th>\n",
       "      <td> 0.000102</td>\n",
       "    </tr>\n",
       "    <tr>\n",
       "      <th>500</th>\n",
       "      <td> 0.000121</td>\n",
       "    </tr>\n",
       "  </tbody>\n",
       "</table>\n",
       "</div>"
      ],
      "text/plain": [
       "         Time\n",
       "100  0.000068\n",
       "200  0.000065\n",
       "300  0.000081\n",
       "400  0.000102\n",
       "500  0.000121"
      ]
     },
     "execution_count": 183,
     "metadata": {},
     "output_type": "execute_result"
    }
   ],
   "source": [
    "n = np.arange(100,501,100)\n",
    "t = np.zeros((len(n),1))\n",
    "\n",
    "for i in range(len(n)):\n",
    "    x = np.random.rand(n[i],1)\n",
    "    t[i] = timer(y,x)\n",
    "pd.DataFrame(t, index = n, columns = ['Time'])"
   ]
  },
  {
   "cell_type": "code",
   "execution_count": null,
   "metadata": {
    "collapsed": true
   },
   "outputs": [],
   "source": []
  }
 ],
 "metadata": {
  "kernelspec": {
   "display_name": "Python [conda root]",
   "language": "python",
   "name": "conda-root-py"
  },
  "language_info": {
   "codemirror_mode": {
    "name": "ipython",
    "version": 3
   },
   "file_extension": ".py",
   "mimetype": "text/x-python",
   "name": "python",
   "nbconvert_exporter": "python",
   "pygments_lexer": "ipython3",
   "version": "3.5.2"
  }
 },
 "nbformat": 4,
 "nbformat_minor": 2
}
