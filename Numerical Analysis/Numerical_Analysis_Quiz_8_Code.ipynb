{
 "cells": [
  {
   "cell_type": "code",
   "execution_count": 1,
   "metadata": {
    "collapsed": true
   },
   "outputs": [],
   "source": [
    "import numpy as np"
   ]
  },
  {
   "cell_type": "markdown",
   "metadata": {},
   "source": [
    "## Problem 3"
   ]
  },
  {
   "cell_type": "code",
   "execution_count": 2,
   "metadata": {
    "collapsed": true
   },
   "outputs": [],
   "source": [
    "def mgs(A):\n",
    "    m = A.shape[0]\n",
    "    n = A.shape[1]\n",
    "    Q = np.zeros((m,n))\n",
    "    R = np.zeros((n,n))\n",
    "    \n",
    "    for i in range(n):\n",
    "        v = A[:,i]\n",
    "        \n",
    "        for j in range(i):\n",
    "            R[j,i] = Q[:,j].T.dot(A[:,i])\n",
    "            v = v.squeeze() - (R[j,i]*Q[:,j])\n",
    "        R[i,i] = np.linalg.norm(v)\n",
    "        Q[:,i] = (v / R[i,i]).squeeze()\n",
    "    return Q, R"
   ]
  },
  {
   "cell_type": "markdown",
   "metadata": {},
   "source": [
    "## Problem 4"
   ]
  },
  {
   "cell_type": "code",
   "execution_count": 14,
   "metadata": {
    "collapsed": false
   },
   "outputs": [],
   "source": [
    "def house(A):\n",
    "    m = A.shape[0]\n",
    "    n = A.shape[1]\n",
    "    R = A.copy()\n",
    "    U = np.zeros((m,n))\n",
    "    for i in range(n):\n",
    "        x = R[i:m, i]\n",
    "        e = np.zeros((1,len(x)))\n",
    "        e[0][0] = 1\n",
    "        u = np.sign(x[0]) * np.linalg.norm(x) * e + x\n",
    "        u = u/np.linalg.norm(u)\n",
    "        \n",
    "        R[i:m, i:n] = R[i:m, i:n] - 2.0 * np.outer(u.T, np.dot(u, R[i:m, i:n]))\n",
    "        U[i:m, i] = u.squeeze()\n",
    "    R = np.delete(R, range(R.shape[1], R.shape[0]), axis = 0)\n",
    "    return U, R"
   ]
  },
  {
   "cell_type": "markdown",
   "metadata": {},
   "source": [
    "## Problem 5"
   ]
  },
  {
   "cell_type": "markdown",
   "metadata": {},
   "source": [
    "a)"
   ]
  },
  {
   "cell_type": "code",
   "execution_count": 10,
   "metadata": {
    "collapsed": false
   },
   "outputs": [
    {
     "name": "stdout",
     "output_type": "stream",
     "text": [
      "Q = \n",
      "[[ 0.101   0.3162  0.542 ]\n",
      " [ 0.4041  0.3534  0.5162]\n",
      " [ 0.7071  0.3906 -0.5248]\n",
      " [ 0.4041 -0.558   0.3871]\n",
      " [ 0.4041 -0.558  -0.1204]]\n",
      "R = \n",
      "[[ 9.8995  9.4954  9.6975]\n",
      " [ 0.      3.2919  3.0129]\n",
      " [ 0.      0.      1.9701]]\n"
     ]
    }
   ],
   "source": [
    "Z = np.array(([1.,2.,3.], [4.,5.,6.], [7.,8.,7.], [4.,2.,3.], [4.,2.,2.]))\n",
    "Q, R = mgs(Z)\n",
    "print 'Q = \\n', np.round(Q, 4)\n",
    "print 'R = \\n', np.round(R, 4)"
   ]
  },
  {
   "cell_type": "markdown",
   "metadata": {},
   "source": [
    "b)"
   ]
  },
  {
   "cell_type": "code",
   "execution_count": 20,
   "metadata": {
    "collapsed": false
   },
   "outputs": [
    {
     "name": "stdout",
     "output_type": "stream",
     "text": [
      "W = \n",
      "[[ 0.742   0.      0.    ]\n",
      " [ 0.2723  0.7866  0.    ]\n",
      " [ 0.4765  0.1192 -0.98  ]\n",
      " [ 0.2723 -0.4284  0.1842]\n",
      " [ 0.2723 -0.4284 -0.0748]]\n",
      "R = \n",
      "[[-9.8995 -9.4954 -9.6975]\n",
      " [ 0.     -3.2919 -3.0129]\n",
      " [ 0.      0.      1.9701]]\n",
      "[[-0.101  -0.3162  0.542 ]\n",
      " [-0.4041 -0.3534  0.5162]\n",
      " [-0.7071 -0.3906 -0.5248]\n",
      " [-0.4041  0.558   0.3871]\n",
      " [-0.4041  0.558  -0.1204]]\n"
     ]
    }
   ],
   "source": [
    "W, R = house(Z)\n",
    "print 'W = \\n', np.round(W, 4)\n",
    "print 'R = \\n', np.round(R, 4)\n",
    "print np.round(Z.dot(np.linalg.inv(R)),4)"
   ]
  },
  {
   "cell_type": "markdown",
   "metadata": {},
   "source": [
    "c)"
   ]
  },
  {
   "cell_type": "code",
   "execution_count": 21,
   "metadata": {
    "collapsed": false
   },
   "outputs": [
    {
     "name": "stdout",
     "output_type": "stream",
     "text": [
      "Q = \n",
      "[[-0.101  -0.3162  0.542 ]\n",
      " [-0.4041 -0.3534  0.5162]\n",
      " [-0.7071 -0.3906 -0.5248]\n",
      " [-0.4041  0.558   0.3871]\n",
      " [-0.4041  0.558  -0.1204]]\n",
      "R = \n",
      "[[-9.8995 -9.4954 -9.6975]\n",
      " [ 0.     -3.2919 -3.0129]\n",
      " [ 0.      0.      1.9701]]\n"
     ]
    }
   ],
   "source": [
    "Q, R = np.linalg.qr(Z)\n",
    "print 'Q = \\n', np.round(Q, 4)\n",
    "print 'R = \\n', np.round(R, 4)"
   ]
  },
  {
   "cell_type": "code",
   "execution_count": null,
   "metadata": {
    "collapsed": true
   },
   "outputs": [],
   "source": []
  }
 ],
 "metadata": {
  "kernelspec": {
   "display_name": "Python [conda root]",
   "language": "python",
   "name": "conda-root-py"
  },
  "language_info": {
   "codemirror_mode": {
    "name": "ipython",
    "version": 3
   },
   "file_extension": ".py",
   "mimetype": "text/x-python",
   "name": "python",
   "nbconvert_exporter": "python",
   "pygments_lexer": "ipython3",
   "version": "3.5.2"
  }
 },
 "nbformat": 4,
 "nbformat_minor": 2
}
