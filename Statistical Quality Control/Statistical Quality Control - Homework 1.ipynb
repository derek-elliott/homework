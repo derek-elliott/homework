{
 "cells": [
  {
   "cell_type": "markdown",
   "metadata": {},
   "source": [
    "<center>By: Derek Elliott</center>"
   ]
  },
  {
   "cell_type": "markdown",
   "metadata": {},
   "source": [
    "### Problem 1\n",
    "pg 103 3.8"
   ]
  },
  {
   "cell_type": "code",
   "execution_count": 1,
   "metadata": {
    "collapsed": true
   },
   "outputs": [],
   "source": [
    "import numpy as np\n",
    "import matplotlib.pyplot as plt\n",
    "from collections import defaultdict\n",
    "from scipy import stats"
   ]
  },
  {
   "cell_type": "code",
   "execution_count": 2,
   "metadata": {
    "collapsed": true
   },
   "outputs": [],
   "source": [
    "data = [127,125,131,124,129,121,142,151,160,125,\n",
    "        124,123,120,119,128,133,137,124,142,123,\n",
    "        121,136,140,137,125,124,128,129,130,122,\n",
    "        118,131,128,133,141,125,140,131,129,126]"
   ]
  },
  {
   "cell_type": "markdown",
   "metadata": {},
   "source": [
    "a)"
   ]
  },
  {
   "cell_type": "code",
   "execution_count": 3,
   "metadata": {
    "collapsed": false
   },
   "outputs": [
    {
     "name": "stdout",
     "output_type": "stream",
     "text": [
      "Mean: 130.05\n",
      "Standard Deviation: 8.77197241218\n"
     ]
    }
   ],
   "source": [
    "print 'Mean: {}\\nStandard Deviation: {}'.format(np.mean(data),\n",
    "                                                np.std(data))"
   ]
  },
  {
   "cell_type": "markdown",
   "metadata": {},
   "source": [
    "b)"
   ]
  },
  {
   "cell_type": "code",
   "execution_count": 4,
   "metadata": {
    "collapsed": false,
    "scrolled": true
   },
   "outputs": [
    {
     "data": {
      "image/png": "[encoded data removed]",
      "text/plain": [
       "<matplotlib.figure.Figure at 0xa631eb8>"
      ]
     },
     "metadata": {},
     "output_type": "display_data"
    }
   ],
   "source": [
    "plt.hist(data);"
   ]
  },
  {
   "cell_type": "markdown",
   "metadata": {},
   "source": [
    "c)"
   ]
  },
  {
   "cell_type": "code",
   "execution_count": 5,
   "metadata": {
    "collapsed": false
   },
   "outputs": [
    {
     "name": "stdout",
     "output_type": "stream",
     "text": [
      "11 | 89 \n",
      "\n",
      "12 | 0112334444555567888999 \n",
      "\n",
      "13 | 011133677 \n",
      "\n",
      "14 | 00122 \n",
      "\n",
      "15 | 1 \n",
      "\n",
      "16 | 0 \n",
      "\n"
     ]
    }
   ],
   "source": [
    "stems = defaultdict(list)\n",
    "for i in data:\n",
    "    stems[i/10].append(i % 10)\n",
    "\n",
    "low, high = np.min(stems.keys()), np.max(stems.keys())\n",
    "for stem, value in stems.iteritems():\n",
    "    leaves = ''\n",
    "    for leaf in sorted(value):\n",
    "        leaves = leaves + str(leaf)\n",
    "    print '{} | {} \\n'.format(stem, leaves)"
   ]
  },
  {
   "cell_type": "markdown",
   "metadata": {},
   "source": [
    "d)"
   ]
  },
  {
   "cell_type": "code",
   "execution_count": 6,
   "metadata": {
    "collapsed": false
   },
   "outputs": [
    {
     "name": "stdout",
     "output_type": "stream",
     "text": [
      "Median: 128.0\n",
      "Q1: 124.0\n",
      "Q3: 133.75\n"
     ]
    }
   ],
   "source": [
    "print 'Median: {}\\nQ1: {}\\nQ3: {}'.format(np.median(data),\n",
    "                                          np.percentile(data, 25),\n",
    "                                          np.percentile(data, 75))"
   ]
  },
  {
   "cell_type": "markdown",
   "metadata": {},
   "source": [
    "### Problem 2\n",
    "pg 104 3.12"
   ]
  },
  {
   "cell_type": "code",
   "execution_count": 7,
   "metadata": {
    "collapsed": false
   },
   "outputs": [
    {
     "data": {
      "image/png": "[encoded data removed]",
      "text/plain": [
       "<matplotlib.figure.Figure at 0xa7dca20>"
      ]
     },
     "metadata": {},
     "output_type": "display_data"
    }
   ],
   "source": [
    "data = [953,955,948,951,957,949,954,950,959]\n",
    "stats.probplot(data, plot = plt);"
   ]
  },
  {
   "cell_type": "markdown",
   "metadata": {},
   "source": [
    "The data follows the line well, given by the high R-squared value, so the normal distribution should provide a reasonable model for the data.\n",
    "\n",
    "\n",
    "\n",
    "\n"
   ]
  },
  {
   "cell_type": "markdown",
   "metadata": {},
   "source": [
    "### Problem 3\n",
    "pg 105 3.30"
   ]
  },
  {
   "cell_type": "markdown",
   "metadata": {},
   "source": [
    "$$f(x) = ke^{-x} = 1$$\n",
    "$$f(x) = k\\int_0^{\\infty}e^{-x}dx = 1$$\n",
    "$$k(-e^{-x}|_0^{\\infty}) = 1$$\n",
    "$$k(1) = 1$$\n",
    "$$k = 1$$\n",
    "\n",
    "\n",
    "$$E[X] = \\int_0^{\\infty}xe^{-x}dx$$\n",
    "$$E[X] = (-x -1)e^{-x}|_0^\\infty$$\n",
    "$$E[X] = 1$$\n",
    "\n",
    "\n",
    "$$Var(X) = E[X^2] - E[X]^2$$\n",
    "$$E[X^2] = \\int_0^{\\infty}x^2e^{-x}dx = 2$$\n",
    "$$Var(X) = 2 - 1^2$$\n",
    "$$Var(X) = 1$$"
   ]
  },
  {
   "cell_type": "markdown",
   "metadata": {},
   "source": [
    "### Problem 4\n",
    "pg 105 3.35, 3.36"
   ]
  },
  {
   "cell_type": "markdown",
   "metadata": {},
   "source": [
    "Let X be the number of nonconforming items.  Then $X\\sim Binom(25,0.01)$.  So it follows that:\n",
    "$$P(X\\geq 1) = \\sum_{i=1}^{25}{{25}\\choose{i}}(0.01)^i(0.99)^{25-i}$$\n",
    "This requires you to compute 24 terms.  Instead, take $1-P(X=0)$, which is equivalent.  Then:\n",
    "$$1-P(X=0) = 1- {{25}\\choose{0}}(0.01)^0(0.99)^{25}$$\n",
    "This evaluates to 0.222, or 22%.  This means roughly one in 5 samples will most likely contain a nonconforming item.\n",
    "\n",
    "If the process deteriorates to 4% that would yield $X\\sim Binom(25,0.04)$.  Then:\n",
    "$$1-P(X=0) = 1- {{25}\\choose{0}}(0.04)^0(0.96)^{25}$$\n",
    "This evaluates to 0.360, or 36%.  This means that more than one in 3 samples will most likely contain a nonconforming item."
   ]
  },
  {
   "cell_type": "markdown",
   "metadata": {},
   "source": [
    "### Problem 5\n",
    "pg 105 3.38\n",
    "\n",
    "Let X be the number of nonconforming parts, then $X\\sim Binom(100,0.01)$.  The probability that $\\hat{p}$ will exceed the true fraction nonconforming by k standard deviations is given by:\n",
    "$$P(\\hat{p}>p+k\\sigma_{\\hat{p}})$$\n",
    "Then, if we take the normal approximation of the binomial:\n",
    "$$P\\left(\\frac{\\hat{p}-p}{\\sigma_{\\hat{p}}} > \\frac{p + k\\sigma_{\\hat{p}}-p}{\\sigma_{\\hat{p}}}\\right)$$\n",
    "$$P(Z > k)$$\n",
    "$$P(Z > 1) = 0.1587$$\n",
    "$$P(Z > 2) = 0.0228$$\n",
    "$$P(Z > 3) = 0.0013$$"
   ]
  },
  {
   "cell_type": "markdown",
   "metadata": {},
   "source": [
    "### Problem 6\n",
    "pg 106 3.40\n",
    "\n",
    "a) The probability that any given patient has high blood pressure is 15%, so the probability that the third patient has high blood pressure is 15%.\n",
    "\n",
    "b) Assume X is the number of healthy patients before the first patient is found to have high blood pressure.  Then $X\\sim Geom(0.15)$.  The average number of patients needed to be seen before finding the first with high blood pressure is given by: \n",
    "$$E[X] = \\frac{1}{p} = \\frac{1}{.15} = 6.67$$\n",
    "So, on average, 7 patients would have to be seen before finding one with high blood pressure.\n",
    "\n",
    "c) Assume X is the number of patients that have high blood pressure.  Then $X\\sim Binom(50,0.15)$.  The probability of finding 10 patients that have high blood pressure is given by:\n",
    "$$P(X = 10) = {{50}\\choose{10}}(0.15)^{10}(0.85)^{40} = 0.0889$$\n",
    "This means that there is an 8.9% chance of finding exactly 10 patients with high blood pressure on any given day, or less than 1 in 10 days."
   ]
  },
  {
   "cell_type": "markdown",
   "metadata": {},
   "source": [
    "### Problem 7\n",
    "\n",
    "Let $f(y) = \\frac{\\lambda^\\alpha}{\\Gamma(\\alpha)}y^{\\alpha - 1}e^{-\\lambda y}$ with $y > 0$.  Find $E(Y^m)$.\n",
    "$$\\frac{\\lambda^\\alpha}{\\Gamma(\\alpha)}\\int_0^\\infty y^{m + \\alpha - 1}e^{-\\lambda y}dy$$\n",
    "$$\\frac{\\lambda^{\\alpha -1}}{\\Gamma(\\alpha)}\\int_0^\\infty \\lambda y^{m + \\alpha - 1}e^{-\\lambda y}dy$$\n",
    "The function in the integral is the gamma function and is equal to $\\Gamma (m+a)$.  Therefor:\n",
    "$$E(Y^m) = \\frac{\\lambda^{\\alpha -1}}{\\Gamma(\\alpha)}\\Gamma (m+a) = \\frac{\\lambda^{\\alpha -1}(m+\\alpha)!}{(m-\\alpha)!}$$"
   ]
  },
  {
   "cell_type": "markdown",
   "metadata": {},
   "source": [
    "### Problem 8\n",
    "Given $\\mu = 410$ and $\\sigma = 20$, then $X\\sim N(410,20)$.  The probability that the costs will exceed the budgeted amount of \\$460 is given by $P(X>460)$.  This can be standardized by performing the following transformation:\n",
    "$$P\\left(\\frac{X-\\mu}{\\sigma} > \\frac{460 - 410}{20}\\right)$$\n",
    "$$P(Z > 2.5) = 0.0062$$\n",
    "This means there is a 0.62% chance the costs will exceed the budgeted amount."
   ]
  },
  {
   "cell_type": "markdown",
   "metadata": {},
   "source": [
    "### Problem 9\n",
    "Following the above, the following can be used to find the amount that needs to be budgeted so that the probability of exceeding that amount is 0.08:\n",
    "$$P(X>x) = P\\left(\\frac{X-\\mu}{\\sigma} > \\frac{x - 410}{20}\\right)$$\n",
    "$$P\\left(Z > \\frac{x - 410}{20}\\right) = 0.08$$\n",
    "$$\\frac{x - 410}{20} = 1.41$$\n",
    "$$x = \\$438.20$$\n",
    "Therefore, to keep the probability of exceeding the budget at 8%, \\$438.20 should be budgeted."
   ]
  },
  {
   "cell_type": "code",
   "execution_count": null,
   "metadata": {},
   "outputs": [],
   "source": []
  }
 ],
 "metadata": {
  "kernelspec": {
   "display_name": "Python [conda root]",
   "language": "python",
   "name": "conda-root-py"
  },
  "language_info": {
   "codemirror_mode": {
    "name": "ipython",
    "version": 3
   },
   "file_extension": ".py",
   "mimetype": "text/x-python",
   "name": "python",
   "nbconvert_exporter": "python",
   "pygments_lexer": "ipython3",
   "version": "3.5.2"
  }
 },
 "nbformat": 4,
 "nbformat_minor": 2
}
